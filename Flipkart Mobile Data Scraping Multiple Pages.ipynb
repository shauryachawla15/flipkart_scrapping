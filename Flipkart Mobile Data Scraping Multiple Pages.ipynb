{
 "cells": [
  {
   "cell_type": "code",
   "execution_count": null,
   "id": "7a2db29c",
   "metadata": {},
   "outputs": [],
   "source": [
    "import bs4\n",
    "import pandas as pd\n",
    "import requests"
   ]
  },
  {
   "cell_type": "code",
   "execution_count": null,
   "id": "e3a1d3c4",
   "metadata": {},
   "outputs": [],
   "source": [
    "nm=[]\n",
    "pr=[]\n",
    "rt=[]\n",
    "ds=[]\n",
    "\n",
    "n=int(input(\"Enter no. of pages which you want to scrape =  \"))\n",
    "\n",
    "\n",
    "for i in range(1,n+1):\n",
    "    url=f\"https://www.flipkart.com/search?q=Mobiles&otracker=search&otracker1=search&marketplace=FLIPKART&as-show=on&as=off&as-pos=1&as-type=HISTORY&page={i}\"\n",
    "    res=requests.get(url)\n",
    "    soup=bs4.BeautifulSoup(res.text,\"html.parser\")\n",
    "    #print(soup.prettify())\n",
    "    \n",
    "    Name=soup.find_all(\"div\",{\"class\":\"_4rR01T\"})\n",
    "    #print(Name)\n",
    "    #print(len(Name))\n",
    "    \n",
    "    Price=soup.find_all(\"div\",{\"class\":\"_30jeq3 _1_WHN1\"})\n",
    "    #print(Price)\n",
    "    #print(len(Price))\n",
    "    \n",
    "    Ratings=soup.find_all(\"div\",{\"class\":\"_3LWZlK\"})\n",
    "    #print(Ratings)\n",
    "    #print(len(Ratings))\n",
    "    \n",
    "    Description=soup.find_all(\"div\",{\"class\":\"fMghEO\"})\n",
    "    #print(Description)\n",
    "    #print(len(Description))\n",
    "    \n",
    "    for j in Name:\n",
    "        nm.append(j.text)\n",
    "    \n",
    "    for j in Price:\n",
    "        pr.append(j.text)\n",
    "    \n",
    "    for j in range(len(Name)):\n",
    "        rt.append(Ratings[j].text)\n",
    "    \n",
    "    for j in Description:\n",
    "        ds.append(j.text)\n",
    "        \n",
    "        \n",
    "        \n",
    "    i+=1\n",
    "    \n",
    "    "
   ]
  },
  {
   "cell_type": "code",
   "execution_count": null,
   "id": "638af6c2",
   "metadata": {},
   "outputs": [],
   "source": [
    "print(len(nm))\n",
    "print(len(pr))\n",
    "print(len(rt))\n",
    "print(len(ds))"
   ]
  },
  {
   "cell_type": "code",
   "execution_count": null,
   "id": "34ec21c6",
   "metadata": {},
   "outputs": [],
   "source": [
    "data={\"Name\":nm,\"Price\":pr,\"Ratings\":rt,\"Description\":ds}\n",
    "df=pd.DataFrame(data)"
   ]
  },
  {
   "cell_type": "code",
   "execution_count": null,
   "id": "9d0e74ad",
   "metadata": {},
   "outputs": [],
   "source": [
    "print(df)"
   ]
  },
  {
   "cell_type": "code",
   "execution_count": null,
   "id": "14d357ed",
   "metadata": {},
   "outputs": [],
   "source": [
    "df.to_excel(\"laptop.xlsx\",index=False)"
   ]
  },
  {
   "cell_type": "code",
   "execution_count": null,
   "id": "08f78670",
   "metadata": {},
   "outputs": [],
   "source": [
    "df"
   ]
  },
  {
   "cell_type": "code",
   "execution_count": null,
   "id": "efd296f5",
   "metadata": {},
   "outputs": [],
   "source": []
  }
 ],
 "metadata": {
  "kernelspec": {
   "display_name": "Python 3 (ipykernel)",
   "language": "python",
   "name": "python3"
  },
  "language_info": {
   "codemirror_mode": {
    "name": "ipython",
    "version": 3
   },
   "file_extension": ".py",
   "mimetype": "text/x-python",
   "name": "python",
   "nbconvert_exporter": "python",
   "pygments_lexer": "ipython3",
   "version": "3.9.13"
  }
 },
 "nbformat": 4,
 "nbformat_minor": 5
}
